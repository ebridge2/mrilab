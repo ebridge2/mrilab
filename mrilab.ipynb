{
 "cells": [
  {
   "cell_type": "markdown",
   "metadata": {},
   "source": [
    "# SIC for FNGS Pipeline\n",
    "\n",
    "Like the **ndmg** diffusion MRI pipeline, the FNGS pipeline operates in two steps: connectome estimation, and statistical analysis. \n",
    "\n",
    "## Connectome Estimation\n",
    "\n",
    "The FNGS pipeline must first translate our raw functional MRI images into connectomes. Pessing \"run\" on the cell below will call the ndmg functional demo script.\n",
    "\n",
    "![fngs pipeline](https://raw.githubusercontent.com/NeuroDataDesign/fngs/master/docs/ebridge2/brainx2_pres/img/fngs_workflow.png)\n",
    "**Figure 1**: The workflow for the FNGS Pipeline. \n",
    "\n",
    "If you get \"`process interrupted`\" as an output for any step of this notebook refresh the page and start again from the top; this is due to the server rebooting which it is scheduled to do every few hours.\n",
    "\n",
    "Now that we are acquainted with the basics of the pipeline, feel free to click the cell below, and click the \"play\" button in the bar at the top. Alternatively, press shift + Enter from inside of the cell:"
   ]
  },
  {
   "cell_type": "code",
   "execution_count": null,
   "metadata": {
    "collapsed": false
   },
   "outputs": [],
   "source": [
    "%%bash\n",
    "\n",
    "ndmg_demo_func"
   ]
  },
  {
   "cell_type": "markdown",
   "metadata": {},
   "source": [
    "\n",
    "To estimate our functional connectomes, we leverage many tools along the way, notably:\n",
    "\n",
    "\n",
    " Step            |  Tool(s) leveraged  \n",
    "-----------------|-------------------------\n",
    "   Preprocessing |  mcflirt (FSL), slicetimer (FSL)\n",
    "   Registration  |  FLIRT (FSL), FLIRT-bbr (FSL), FNIRT (FSL), MNI 152 Template (MNI)\n",
    "   Nuisance      |  Neurodata Code (Neurodata)\n",
    "   Timeseries Extraction/Connectome Estimation | Parcellation Atlases\n",
    "   \n",
    "**Figure 2**: The tools leveraged by the FNGS Pipeline.\n",
    "\n",
    "\n",
    "### View Timeseries Estimation Results\n",
    "\n",
    "Your fMRI timeseries can be viewed with the following code. This demo is on very small data, so it is not necessarily guaranteed to produce high-quality outputs as it was given drastically simpler data than most neuroscience applications, but it gives users a feel for the overall workflow. Click in the block, and press the \"play\" button at the top to execute it. "
   ]
  },
  {
   "cell_type": "code",
   "execution_count": null,
   "metadata": {
    "collapsed": false
   },
   "outputs": [],
   "source": [
    "%matplotlib inline\n",
    "\n",
    "import matplotlib.pyplot as plt\n",
    "import numpy as np\n",
    "\n",
    "ts = np.load('/tmp/ndmg_demo_func/outputs/ts_roi/desikan-4mm/sub-0025864_session-1_bold_small_desikan-4mm.npy')\n",
    "fig = plt.figure()\n",
    "ax = fig.add_subplot(111)\n",
    "ax.plot(ts)\n",
    "ax.set_xlabel('TR')\n",
    "ax.set_ylabel('Intensity')\n",
    "ax.set_title('Subject 0025864 session 1 ROI timeseries')\n",
    "fig.show()"
   ]
  },
  {
   "cell_type": "markdown",
   "metadata": {},
   "source": [
    "### View Connectome Estimation Results\n",
    "\n",
    "You can view your functional connectome with the following code. Again, click anywhere in the block and press the \"play\" button to execute it."
   ]
  },
  {
   "cell_type": "code",
   "execution_count": null,
   "metadata": {
    "collapsed": false
   },
   "outputs": [],
   "source": [
    "import networkx as nx\n",
    "\n",
    "g = nx.read_gpickle('/tmp/ndmg_demo_func/outputs/connectomes/desikan-4mm/sub-0025864_session-1_bold_small_desikan-4mm.gpickle')\n",
    "mtx = nx.to_numpy_matrix(g)\n",
    "fig = plt.figure(figsize=(7,7))\n",
    "ax = fig.add_subplot(111)\n",
    "cax = ax.imshow(mtx, interpolation='None')\n",
    "ax.set_xlabel('ROI')\n",
    "ax.set_ylabel('ROI')\n",
    "ax.set_title('Subject 0025864 session 1 Functional Connectome')\n",
    "fig.colorbar(cax)\n",
    "fig.show()"
   ]
  },
  {
   "cell_type": "markdown",
   "metadata": {},
   "source": [
    "### Group Level Analysis\n",
    "\n",
    "The FNGS pipeline produces numerous statistical reports and quality assurance summaries, both qualitative and quantitative, at both the subject-specific and group level. The subject-level qa will be alongside your local outputs in the qa folder. To generate the group-level qa, we can use the following command:"
   ]
  },
  {
   "cell_type": "code",
   "execution_count": null,
   "metadata": {
    "collapsed": false
   },
   "outputs": [],
   "source": [
    "%%bash\n",
    "\n",
    "ndmg_bids /tmp/ndmg_demo_func/outputs /tmp/ndmg_demo_func/outputs/qa/group group func \\\n",
    "\n",
    "cp /tmp/ndmg_demo_func/outputs/qa/group/connectomes/desikan-4mm/desikan-4mm_plot.html /home/sic-user/qc_desikan_plot.html\n"
   ]
  },
  {
   "cell_type": "markdown",
   "metadata": {},
   "source": [
    "### View Summary Statistics\n",
    "\n",
    "Like the diffusion pipeline, the FNGS pipeline produces a plot which tells you about your functional connectomes. The functional connectome shown is a binarized version of the weighted output provided above, where the top 30% of edges are retained and the bottom 70% thresholded out.\n",
    "\n",
    "Click [this link](./qc_desikan_plot.html) to view the result!\n",
    "\n",
    "We also provide quality assurance metrics metrics for evaluating preprocessing and registration quality at the group level for easy identification of outliers or pipeline failures, and are working on producing quantitative metrics for nuisance correction.\n",
    "\n",
    "# Further Explorations",
    "## Local demos\n",
    "\n",
    "For local deployment of the FNGS pipeline, feel free to follow our [local pipeline tutorial](https://github.com/NeuroDataDesign/fngs/blob/master/local_bids.md) where we provide an example of the BIDs format and an entrypoint to run the FNGS pipeline locally on a BIDs-spec'd input. \n",
    "\n",
    "## Webservice Demos\n",
    "\n",
    "At [this link](http://cortex.jhu.edu:8061/submit/demo/), we provide the FNGS web service. The FNGS web service leverages AWS Batch, and we heavily automate the batch deployment service other than a few account setup requirements. \n",
    "\n",
    "![fngs deployment](https://raw.githubusercontent.com/NeuroDataDesign/fngs/master/docs/ebridge2/brainx2_pres/img/deployment.png)\n",
    "**Figure 2** the FNGS webservice deployment schematic. Users provide a directory according to the BIDs spec to the FNGS cloud controller locally via the docker container at (1). The data is uploaded directly to AWS S3 cloud drives. The controller then initiates the Batch deployment procedure at (2.a), which interfaces between S3 and EC2 cloud computers to provide the MRI scans to EC2 instances pre-loaded with the FNGS pipeline for analysis. After the scans are finished being analyzed on the EC2 instances at (2.b), the results are then re-uploaded back to the S3 cloud drive at (2.c). The user can then navigate to the S3 cloud drive for downstream analyses.\n",
    "\n",
    "Tutorials for the downsampled website demo can be found [batch deployment demo](https://github.com/NeuroDataDesign/fngs/blob/master/website_demo_walkthrough.md), and tutorials for the full-service submission are [submission tutorial](https://github.com/NeuroDataDesign/fngs/blob/master/website_cloud.md).\n",
    "\n"
   ]
  },
  {
   "cell_type": "code",
   "execution_count": null,
   "metadata": {
    "collapsed": true
   },
   "outputs": [],
   "source": []
  }
 ],
 "metadata": {
  "celltoolbar": "Raw Cell Format",
  "kernelspec": {
   "display_name": "Python [Root]",
   "language": "python",
   "name": "Python [Root]"
  },
  "language_info": {
   "codemirror_mode": {
    "name": "ipython",
    "version": 2
   },
   "file_extension": ".py",
   "mimetype": "text/x-python",
   "name": "python",
   "nbconvert_exporter": "python",
   "pygments_lexer": "ipython2",
   "version": "2.7.12"
  }
 },
 "nbformat": 4,
 "nbformat_minor": 0
}
